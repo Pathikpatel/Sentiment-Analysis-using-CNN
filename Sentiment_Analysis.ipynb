{
  "nbformat": 4,
  "nbformat_minor": 0,
  "metadata": {
    "colab": {
      "name": "NLP_final_asignment.ipynb",
      "provenance": [],
      "collapsed_sections": [],
      "toc_visible": true
    },
    "kernelspec": {
      "name": "python3",
      "display_name": "Python 3"
    },
    "accelerator": "GPU"
  },
  "cells": [
    {
      "cell_type": "code",
      "metadata": {
        "id": "XfwbMB6hUhaJ",
        "colab_type": "code",
        "colab": {}
      },
      "source": [
        "# Import required libraries\n",
        "import torch\n",
        "from torchtext import data\n",
        "from torchtext import datasets\n",
        "import random\n",
        "import numpy as np\n",
        "import torch.nn as nn\n",
        "from torch.nn import MaxPool1d\n",
        "from torch.nn.functional import relu\n",
        "\n",
        "# Set random seed=2003\n",
        "SEED = 2003\n",
        "\n",
        "TEXT = data.Field(tokenize = 'spacy', batch_first = True,fix_length=50,stop_words='en')\n",
        "LABEL = data.LabelField(dtype = torch.float)\n",
        "fields = [('PhraseId',None),('SentimentId',None),('Phrase',TEXT),('Sentiment',LABEL)]\n",
        "\n",
        "\n",
        "# Load the dataset\n",
        "training_data=data.TabularDataset( '/content/drive/My Drive/Colab Notebooks/train.tsv', format = 'tsv',fields =fields,skip_header = True)\n",
        "\n",
        "# Split the dataset into training and testinng sets\n",
        "train_data, test_data = training_data.split(split_ratio=0.3, random_state = random.seed(SEED))  "
      ],
      "execution_count": 0,
      "outputs": []
    },
    {
      "cell_type": "code",
      "metadata": {
        "colab_type": "code",
        "outputId": "af1c4a68-729b-45c8-bb8d-7526fc5e010e",
        "id": "Ts-dy4jNWE96",
        "colab": {
          "base_uri": "https://localhost:8080/",
          "height": 34
        }
      },
      "source": [
        "next(iter(training_data))"
      ],
      "execution_count": 2,
      "outputs": [
        {
          "output_type": "execute_result",
          "data": {
            "text/plain": [
              "<torchtext.data.example.Example at 0x7fc0ef316240>"
            ]
          },
          "metadata": {
            "tags": []
          },
          "execution_count": 2
        }
      ]
    },
    {
      "cell_type": "code",
      "metadata": {
        "id": "zftw7vmrWHgi",
        "colab_type": "code",
        "outputId": "5e186f89-a5a5-43d5-819a-a7431d5fc21d",
        "colab": {
          "base_uri": "https://localhost:8080/",
          "height": 204
        }
      },
      "source": [
        "import pandas as pd\n",
        "df = pd.read_csv(\"/content/drive/My Drive/Colab Notebooks/train.tsv\", sep='\\t')\n",
        "df.iloc[0:5]"
      ],
      "execution_count": 3,
      "outputs": [
        {
          "output_type": "execute_result",
          "data": {
            "text/html": [
              "<div>\n",
              "<style scoped>\n",
              "    .dataframe tbody tr th:only-of-type {\n",
              "        vertical-align: middle;\n",
              "    }\n",
              "\n",
              "    .dataframe tbody tr th {\n",
              "        vertical-align: top;\n",
              "    }\n",
              "\n",
              "    .dataframe thead th {\n",
              "        text-align: right;\n",
              "    }\n",
              "</style>\n",
              "<table border=\"1\" class=\"dataframe\">\n",
              "  <thead>\n",
              "    <tr style=\"text-align: right;\">\n",
              "      <th></th>\n",
              "      <th>PhraseId</th>\n",
              "      <th>SentenceId</th>\n",
              "      <th>Phrase</th>\n",
              "      <th>Sentiment</th>\n",
              "    </tr>\n",
              "  </thead>\n",
              "  <tbody>\n",
              "    <tr>\n",
              "      <th>0</th>\n",
              "      <td>1</td>\n",
              "      <td>1</td>\n",
              "      <td>A series of escapades demonstrating the adage ...</td>\n",
              "      <td>1</td>\n",
              "    </tr>\n",
              "    <tr>\n",
              "      <th>1</th>\n",
              "      <td>2</td>\n",
              "      <td>1</td>\n",
              "      <td>A series of escapades demonstrating the adage ...</td>\n",
              "      <td>2</td>\n",
              "    </tr>\n",
              "    <tr>\n",
              "      <th>2</th>\n",
              "      <td>3</td>\n",
              "      <td>1</td>\n",
              "      <td>A series</td>\n",
              "      <td>2</td>\n",
              "    </tr>\n",
              "    <tr>\n",
              "      <th>3</th>\n",
              "      <td>4</td>\n",
              "      <td>1</td>\n",
              "      <td>A</td>\n",
              "      <td>2</td>\n",
              "    </tr>\n",
              "    <tr>\n",
              "      <th>4</th>\n",
              "      <td>5</td>\n",
              "      <td>1</td>\n",
              "      <td>series</td>\n",
              "      <td>2</td>\n",
              "    </tr>\n",
              "  </tbody>\n",
              "</table>\n",
              "</div>"
            ],
            "text/plain": [
              "   PhraseId  ...  Sentiment\n",
              "0         1  ...          1\n",
              "1         2  ...          2\n",
              "2         3  ...          2\n",
              "3         4  ...          2\n",
              "4         5  ...          2\n",
              "\n",
              "[5 rows x 4 columns]"
            ]
          },
          "metadata": {
            "tags": []
          },
          "execution_count": 3
        }
      ]
    },
    {
      "cell_type": "code",
      "metadata": {
        "id": "muxkx1TMXQdD",
        "colab_type": "code",
        "outputId": "d0f92f82-1ae3-4961-e7fe-003fd5166d76",
        "colab": {
          "base_uri": "https://localhost:8080/",
          "height": 309
        }
      },
      "source": [
        "df['Sentiment'].value_counts()\n",
        "ax = pd.value_counts(df['Sentiment']).plot(kind=\"bar\",title = 'Sentiment Distribution')\n",
        "ax.set_xlabel(\"Sentiment\")\n",
        "ax.set_ylabel(\"Frequency\")"
      ],
      "execution_count": 4,
      "outputs": [
        {
          "output_type": "execute_result",
          "data": {
            "text/plain": [
              "Text(0, 0.5, 'Frequency')"
            ]
          },
          "metadata": {
            "tags": []
          },
          "execution_count": 4
        },
        {
          "output_type": "display_data",
          "data": {
            "image/png": "[encoded data removed]",
            "text/plain": [
              "<Figure size 432x288 with 1 Axes>"
            ]
          },
          "metadata": {
            "tags": []
          }
        }
      ]
    },
    {
      "cell_type": "code",
      "metadata": {
        "colab_type": "code",
        "outputId": "9bf1010a-c0db-4975-8757-56f63c07492f",
        "id": "8r0b5t5fV_Mx",
        "colab": {
          "base_uri": "https://localhost:8080/",
          "height": 34
        }
      },
      "source": [
        "# Mount with the google drive \n",
        "from google.colab import drive\n",
        "drive.mount('/content/drive')"
      ],
      "execution_count": 5,
      "outputs": [
        {
          "output_type": "stream",
          "text": [
            "Drive already mounted at /content/drive; to attempt to forcibly remount, call drive.mount(\"/content/drive\", force_remount=True).\n"
          ],
          "name": "stdout"
        }
      ]
    },
    {
      "cell_type": "code",
      "metadata": {
        "colab_type": "code",
        "id": "HIfw4A4xtwre",
        "colab": {
          "base_uri": "https://localhost:8080/",
          "height": 51
        },
        "outputId": "dddb34b3-0b6c-415d-c550-7a0d3e12904a"
      },
      "source": [
        "#initialize glove embeddings and build vocabulary\n",
        "TEXT.build_vocab(train_data,test_data,min_freq=3,vectors = \"glove.6B.100d\")  \n",
        "MAX_VOCAB_SIZE = 10_000\n",
        "\n",
        "LABEL.build_vocab(train_data)"
      ],
      "execution_count": 6,
      "outputs": [
        {
          "output_type": "stream",
          "text": [
            ".vector_cache/glove.6B.zip: 862MB [06:28, 2.22MB/s]                          \n",
            "100%|█████████▉| 399169/400000 [00:23<00:00, 17392.76it/s]"
          ],
          "name": "stderr"
        }
      ]
    },
    {
      "cell_type": "code",
      "metadata": {
        "colab_type": "code",
        "outputId": "0ae9c5de-7521-415f-cb77-b9ebc17e38e5",
        "id": "M4lqZzG7tvNo",
        "colab": {
          "base_uri": "https://localhost:8080/",
          "height": 68
        }
      },
      "source": [
        "#No. of unique tokens in text\n",
        "print(\"Size of TEXT vocabulary:\",len(TEXT.vocab))\n",
        "\n",
        "#No. of unique tokens in label\n",
        "print(\"Size of LABEL vocabulary:\",LABEL.vocab.itos)\n",
        "\n",
        "#Commonly used words\n",
        "print(TEXT.vocab.freqs.most_common(10))    "
      ],
      "execution_count": 18,
      "outputs": [
        {
          "output_type": "stream",
          "text": [
            "Size of TEXT vocabulary: 16768\n",
            "Size of LABEL vocabulary: ['2', '3', '1', '4', '0']\n",
            "[('the', 46965), (',', 42006), ('a', 33635), ('of', 32639), ('and', 32066), ('-', 23075), ('to', 22676), ('.', 17688), (\"'s\", 16971), ('in', 13775)]\n"
          ],
          "name": "stdout"
        }
      ]
    },
    {
      "cell_type": "code",
      "metadata": {
        "colab_type": "code",
        "id": "3EKFmy9Xtu7m",
        "colab": {}
      },
      "source": [
        "# define the batch size\n",
        "BATCH_SIZE = 512\n",
        "\n",
        "device = torch.device('cuda' if torch.cuda.is_available() else 'cpu')\n",
        "\n",
        "# Create PyTorch iterators to use in training/testing\n",
        "train_iterator = data.BucketIterator(\n",
        "    train_data, \n",
        "    batch_size = BATCH_SIZE,\n",
        "    device = device)\n",
        "test_iterator=data.BucketIterator(\n",
        "    test_data, \n",
        "    batch_size = BATCH_SIZE,\n",
        "    device = device)"
      ],
      "execution_count": 0,
      "outputs": []
    },
    {
      "cell_type": "code",
      "metadata": {
        "id": "RFxKwhDHgU0a",
        "colab_type": "code",
        "colab": {}
      },
      "source": [
        "\n",
        "class CNN_Text(nn.Module):\n",
        "    ''' Define network architecture and forward path. '''\n",
        "    def __init__(self, vocab_size, \n",
        "                 vector_size, output_dim, \n",
        "                 dropout, pad_idx):\n",
        "        \n",
        "        super().__init__()\n",
        "        # Create word embeddings from the input words     \n",
        "        self.embedding = nn.Embedding(vocab_size, vector_size, \n",
        "                                      padding_idx = pad_idx)\n",
        "\n",
        "        self.conv= nn.Conv1d(50,100,3,stride=2)\n",
        "\n",
        "        self.conv2= nn.Conv1d(100,150,4,stride=1) \n",
        "\n",
        "        self.conv3= nn.Conv1d(150,200,4,stride=1) \n",
        "\n",
        "        self.conv4= nn.Conv1d(200,250,4,stride=1) \n",
        "        \n",
        "        self.flatten = nn.Flatten()\n",
        "\n",
        "        self.linear = nn.Linear(10000, 4096)\n",
        "\n",
        "        self.bn1 = nn.BatchNorm1d(num_features=4096)\n",
        "\n",
        "        self.linear2 = nn.Linear(4096,output_dim)        \n",
        "        \n",
        "    def forward(self, text):\n",
        "        '''Forward path of the network.'''       \n",
        "        # Get word embeddings and formt them for convolutions\n",
        "        embedded = self.embedding(text)\n",
        "        \n",
        "        x = relu(self.conv(embedded))        \n",
        "        \n",
        "        x = relu(self.conv2(x))\n",
        "\n",
        "        x = relu(self.conv3(x))\n",
        "\n",
        "        x = relu(self.conv4(x))\n",
        "\n",
        "        x = self.flatten(x)\n",
        "  \n",
        "        x= relu(self.linear(x))\n",
        "\n",
        "        x = self.bn1(x)\n",
        "\n",
        "        x = self.linear2(x)\n",
        "\n",
        "        return x"
      ],
      "execution_count": 0,
      "outputs": []
    },
    {
      "cell_type": "code",
      "metadata": {
        "id": "pCx5wh9agYE8",
        "colab_type": "code",
        "colab": {}
      },
      "source": [
        "# Set Input Dimention\n",
        "INPUT_DIM = len(TEXT.vocab)\n",
        "\n",
        "# Vector size (lower-dimensional repr. of each word)\n",
        "EMBEDDING_DIM = 100\n",
        "\n",
        "# Output of the linear layer (prob of a negative review)\n",
        "OUTPUT_DIM = 5\n"
      ],
      "execution_count": 0,
      "outputs": []
    },
    {
      "cell_type": "code",
      "metadata": {
        "id": "QDRD7opJiujZ",
        "colab_type": "code",
        "outputId": "e24d0058-8fa4-4400-9b74-802364af2c87",
        "colab": {
          "base_uri": "https://localhost:8080/",
          "height": 204
        }
      },
      "source": [
        "# Zero the initial weights of the UNKnown and padding tokens.\n",
        "UNK_IDX = TEXT.vocab.stoi[TEXT.unk_token]\n",
        "\n",
        "# The string token used as padding. Default: “<pad>”.\n",
        "PAD_IDX = TEXT.vocab.stoi[TEXT.pad_token]\n",
        "\n",
        "model = CNN_Text(INPUT_DIM, EMBEDDING_DIM, \n",
        "            OUTPUT_DIM, 0.5, PAD_IDX)\n",
        "\n",
        "model.embedding.weight.data.copy_(TEXT.vocab.vectors)\n",
        "\n",
        "# Set weights for unknown tokens as zeors\n",
        "model.embedding.weight.data[UNK_IDX] = torch.zeros(EMBEDDING_DIM)\n",
        "model.embedding.weight.data[PAD_IDX] = torch.zeros(EMBEDDING_DIM)\n",
        "model = model.to(device)\n",
        "model"
      ],
      "execution_count": 22,
      "outputs": [
        {
          "output_type": "execute_result",
          "data": {
            "text/plain": [
              "CNN_Text(\n",
              "  (embedding): Embedding(16768, 100, padding_idx=1)\n",
              "  (conv): Conv1d(50, 100, kernel_size=(3,), stride=(2,))\n",
              "  (conv2): Conv1d(100, 150, kernel_size=(4,), stride=(1,))\n",
              "  (conv3): Conv1d(150, 200, kernel_size=(4,), stride=(1,))\n",
              "  (conv4): Conv1d(200, 250, kernel_size=(4,), stride=(1,))\n",
              "  (flatten): Flatten()\n",
              "  (linear): Linear(in_features=10000, out_features=4096, bias=True)\n",
              "  (bn1): BatchNorm1d(4096, eps=1e-05, momentum=0.1, affine=True, track_running_stats=True)\n",
              "  (linear2): Linear(in_features=4096, out_features=5, bias=True)\n",
              ")"
            ]
          },
          "metadata": {
            "tags": []
          },
          "execution_count": 22
        }
      ]
    },
    {
      "cell_type": "code",
      "metadata": {
        "id": "o9RcbGkKz3Oi",
        "colab_type": "code",
        "outputId": "58c0b601-8246-4513-b91d-2b9f7743e423",
        "colab": {
          "base_uri": "https://localhost:8080/",
          "height": 34
        }
      },
      "source": [
        "model(next(iter(train_iterator)).Phrase).shape"
      ],
      "execution_count": 23,
      "outputs": [
        {
          "output_type": "execute_result",
          "data": {
            "text/plain": [
              "torch.Size([512, 5])"
            ]
          },
          "metadata": {
            "tags": []
          },
          "execution_count": 23
        }
      ]
    },
    {
      "cell_type": "code",
      "metadata": {
        "id": "tJTkf67onTrQ",
        "colab_type": "code",
        "colab": {}
      },
      "source": [
        "def accuracy(preds, y):\n",
        "    \"\"\" Return accuracy per batch. \"\"\"\n",
        "\n",
        "    predictions_ = preds.argmax(axis=1)\n",
        "    \n",
        "    correct = (predictions_ == y).float() \n",
        "    \n",
        "    return correct.sum() / len(correct)\n",
        "\n",
        "\n",
        "def epoch_time(start_time, end_time):\n",
        "    '''Track training time. '''\n",
        "    elapsed_time = end_time - start_time\n",
        "    elapsed_mins = int(elapsed_time / 60)\n",
        "    elapsed_secs = int(elapsed_time - (elapsed_mins * 60))\n",
        "    return elapsed_mins, elapsed_secs"
      ],
      "execution_count": 0,
      "outputs": []
    },
    {
      "cell_type": "code",
      "metadata": {
        "id": "k6-DVaTmBoth",
        "colab_type": "code",
        "outputId": "9f37db73-d315-43e0-80a6-3ad63d501c35",
        "colab": {
          "base_uri": "https://localhost:8080/",
          "height": 51
        }
      },
      "source": [
        "# Install libraries for accuracy measure\n",
        "!pip install pytorch-ignite\n",
        "from ignite.metrics import Accuracy,Precision, Recall"
      ],
      "execution_count": 25,
      "outputs": [
        {
          "output_type": "stream",
          "text": [
            "Requirement already satisfied: pytorch-ignite in /usr/local/lib/python3.6/dist-packages (0.3.0)\n",
            "Requirement already satisfied: torch in /usr/local/lib/python3.6/dist-packages (from pytorch-ignite) (1.4.0)\n"
          ],
          "name": "stdout"
        }
      ]
    },
    {
      "cell_type": "code",
      "metadata": {
        "id": "Zheq8YpGn2FO",
        "colab_type": "code",
        "colab": {}
      },
      "source": [
        "\n",
        "\n",
        "def train(model, iterator, optimizer, criterion):\n",
        "    '''Train the model with specified data, optimizer, and loss function. '''\n",
        "    epoch_loss = 0\n",
        "    epoch_acc = 0\n",
        "    prec = Precision(average=True)\n",
        "    rec = Recall(average=True)\n",
        "    avg_rec = 0\n",
        "    avg_prec = 0\n",
        "    model.train()\n",
        "    \n",
        "    for batch in iterator:\n",
        "        \n",
        "        # Reset the gradient to not use them in multiple passes \n",
        "        optimizer.zero_grad()\n",
        "        \n",
        "        predictions = model(batch.Phrase).squeeze(1)\n",
        "        \n",
        "        loss = criterion(predictions, batch.Sentiment.long())\n",
        "        \n",
        "        acc = accuracy(predictions, batch.Sentiment)\n",
        "        \n",
        "        rec.update([predictions,batch.Sentiment.long()])\n",
        "        tmp_rec = rec.compute()\n",
        "\n",
        "        prec.update([predictions,batch.Sentiment.long()])\n",
        "        tmp_prec = prec.compute()\n",
        "        \n",
        "        # Backprop\n",
        "        loss.backward()\n",
        "        \n",
        "        # Optimize the weights\n",
        "        optimizer.step()\n",
        "        \n",
        "        # Record accuracy and loss\n",
        "        epoch_loss += loss.item()\n",
        "        epoch_acc += acc.item()\n",
        "        avg_prec += tmp_prec\n",
        "        avg_rec += tmp_rec\n",
        "\n",
        "        \n",
        "    return epoch_loss / len(iterator), epoch_acc / len(iterator), avg_prec/len(iterator), avg_rec/len(iterator)\n",
        "\n",
        "\n",
        "def evaluate(model, iterator, criterion):\n",
        "    '''Evaluate model performance. '''\n",
        "    epoch_loss = 0\n",
        "    epoch_acc = 0\n",
        "    prec = Precision(average=True)\n",
        "    rec = Recall(average=True)\n",
        "    avg_rec = 0\n",
        "    avg_prec = 0    \n",
        "    # Turm off dropout while evaluating\n",
        "    model.eval()\n",
        "    \n",
        "    # No need to backprop in eval\n",
        "    with torch.no_grad():\n",
        "    \n",
        "        for batch in iterator:\n",
        "\n",
        "            predictions = model(batch.Phrase).squeeze(1)\n",
        "            \n",
        "            loss = criterion(predictions, batch.Sentiment.long())\n",
        "            \n",
        "            acc = accuracy(predictions, batch.Sentiment)\n",
        "            rec.update([predictions,batch.Sentiment.long()])\n",
        "            tmp_rec = rec.compute()\n",
        "\n",
        "            prec.update([predictions,batch.Sentiment.long()])\n",
        "            tmp_prec = prec.compute()            \n",
        "\n",
        "            epoch_loss += loss.item()\n",
        "            epoch_acc += acc.item()\n",
        "            avg_prec += tmp_prec\n",
        "            avg_rec += tmp_rec\n",
        "        \n",
        "    return epoch_loss / len(iterator), epoch_acc / len(iterator), avg_prec/len(iterator), avg_rec/len(iterator)"
      ],
      "execution_count": 0,
      "outputs": []
    },
    {
      "cell_type": "code",
      "metadata": {
        "id": "Rj4KrsRXn57A",
        "colab_type": "code",
        "colab": {}
      },
      "source": [
        "from torch import optim\n",
        "# Network optimizer\n",
        "optimizer = optim.Adam(model.parameters())\n",
        "\n",
        "# Loss function\n",
        "criterion = nn.CrossEntropyLoss()\n",
        "\n",
        "model = model.to(device)\n",
        "criterion = criterion.to(device)"
      ],
      "execution_count": 0,
      "outputs": []
    },
    {
      "cell_type": "code",
      "metadata": {
        "id": "DovM8NfboLXT",
        "colab_type": "code",
        "outputId": "70f3cc06-c077-45ed-f6c8-84eb27284bbc",
        "colab": {
          "base_uri": "https://localhost:8080/",
          "height": 527
        }
      },
      "source": [
        "import time\n",
        "N_EPOCHS = 7\n",
        "\n",
        "best_valid_loss = float('inf')\n",
        "val_loss = []\n",
        "val_acc = []\n",
        "tr_loss = []\n",
        "tr_acc = []\n",
        "\n",
        "for epoch in range(N_EPOCHS):\n",
        "    \n",
        "    # Calculate training time\n",
        "    start_time = time.time()\n",
        "    \n",
        "    # Get epoch losses and accuracies \n",
        "    train_loss, train_acc, avg_prec, avg_rec = train(model, train_iterator, optimizer, criterion)\n",
        "    valid_loss, valid_acc, avg_prec_val, avg_rec_val = evaluate(model, test_iterator, criterion)\n",
        "    \n",
        "    f1 = (2* (avg_prec*avg_rec)/(avg_prec +avg_rec))\n",
        "\n",
        "    f1_val = (2* (avg_prec_val*avg_rec_val)/(avg_prec_val +avg_rec_val))\n",
        "  \n",
        "    if(epoch%3==0):\n",
        "      print(\"Epoch \" +str(epoch)+ \":\\n\\tTrain_Loss = \" + str(train_loss)+\"\\n\\yTrain_Accuracy = \"+ str(train_acc))\n",
        "      print(\"F1: \",f1)\n",
        "\n",
        "      print(\"Epoch \" +str(epoch)+ \":\\n\\tValid_Loss = \" + str(valid_loss)+\"\\n\\yValid_Accuracy = \"+ str(valid_acc)+\"\\n\\yTest_prec = \"+ str(avg_prec_val)+\"\\n\\yTest_rec = \"+ str(avg_rec_val))\n",
        "      print(\"F1_ val: \",f1_val)\n",
        "\n",
        "#      print(f'Epoch: {epoch+1:2} | Epoch Time: {epoch_mins}m {epoch_secs}s')\n",
        "\n",
        "    # end_time = time.time()\n",
        "    # epoch_mins, epoch_secs = epoch_time(start_time, end_time)\n",
        "    \n",
        "    # Save training metrics\n",
        "    val_loss.append(valid_loss)\n",
        "    val_acc.append(valid_acc)\n",
        "    tr_loss.append(train_loss)\n",
        "    tr_acc.append(train_acc)\n",
        "    \n",
        "    # if valid_loss < best_valid_loss:\n",
        "    #     best_valid_loss = valid_loss\n",
        "    #     torch.save(model.state_dict(), 'CNN-model.pt')\n",
        "    \n",
        "    \n",
        "    # print(f'\\tTrain Loss: {train_loss:.3f} | Train Acc: {train_acc*100:.2f}%')\n",
        "   # print(f'\\t Val. Loss: {valid_loss:.3f} |  Val. Acc: {valid_acc*100:.2f}%')\n"
      ],
      "execution_count": 28,
      "outputs": [
        {
          "output_type": "stream",
          "text": [
            "Epoch 0:\n",
            "\tTrain_Loss = 1.2314662680677746\n",
            "\\yTrain_Accuracy = 0.5234852193490319\n",
            "F1:  0.25976699052680896\n",
            "Epoch 0:\n",
            "\tValid_Loss = 1.1677252588985123\n",
            "\\yValid_Accuracy = 0.5373214493009532\n",
            "\\yTest_prec = 0.3825407169269799\n",
            "\\yTest_rec = 0.3449924773124782\n",
            "F1_ val:  0.36279765830751315\n",
            "Epoch 3:\n",
            "\tTrain_Loss = 0.7906399900498597\n",
            "\\yTrain_Accuracy = 0.673950054075407\n",
            "F1:  0.5543123466437495\n",
            "Epoch 3:\n",
            "\tValid_Loss = 1.01764652745746\n",
            "\\yValid_Accuracy = 0.6118190068507863\n",
            "\\yTest_prec = 0.5440417766983191\n",
            "\\yTest_rec = 0.40693288153490254\n",
            "F1_ val:  0.46560333853380265\n",
            "Epoch 6:\n",
            "\tTrain_Loss = 0.5557981295430142\n",
            "\\yTrain_Accuracy = 0.7792668154706126\n",
            "F1:  0.7197980626297368\n",
            "Epoch 6:\n",
            "\tValid_Loss = 1.2537857171531035\n",
            "\\yValid_Accuracy = 0.5885275348881694\n",
            "\\yTest_prec = 0.48907877777948666\n",
            "\\yTest_rec = 0.49645129419161443\n",
            "F1_ val:  0.4927374599633707\n"
          ],
          "name": "stdout"
        }
      ]
    },
    {
      "cell_type": "code",
      "metadata": {
        "id": "7gQcliDNNzEz",
        "colab_type": "code",
        "colab": {}
      },
      "source": [
        "torch.save(model.state_dict(), '1117477_1Dconv_reg.pt')"
      ],
      "execution_count": 0,
      "outputs": []
    }
  ]
}